{
 "cells": [
  {
   "cell_type": "code",
   "execution_count": 20,
   "metadata": {
    "collapsed": true
   },
   "outputs": [],
   "source": [
    "def findMedianSortedArrays(nums1, nums2):\n",
    "    \"\"\"\n",
    "    :type nums1: List[int]\n",
    "    :type nums2: List[int]\n",
    "    :rtype: float\n",
    "    \"\"\"\n",
    "    iter1 = 0\n",
    "    iter2 = 0\n",
    "    l1 = len(nums1)\n",
    "    l2 = len(nums2)\n",
    "\n",
    "    expect_at_index = float((l1 + l2)/2.0)\n",
    "\n",
    "    index_counter = 0\n",
    "    while( (iter1 < l1 or iter2 < l2) and index_counter < expect_at_index):\n",
    "        index_counter = index_counter + 1\n",
    "\n",
    "        if(index_counter == int(expect_at_index)):\n",
    "            if(expect_at_index % 1 == 0):\n",
    "                return (nums1[iter1] + nums2[iter2]) / 2\n",
    "            else:\n",
    "                return float(max(nums1[iter1], nums2[iter2]))\n",
    "\n",
    "        if(nums1[iter1] < nums2[iter2]):\n",
    "            iter1 = iter1 + 1\n",
    "        else:\n",
    "            iter2 = iter2 + 1\n"
   ]
  },
  {
   "cell_type": "code",
   "execution_count": 21,
   "metadata": {},
   "outputs": [
    {
     "name": "stdout",
     "output_type": "stream",
     "text": [
      "2.0\n"
     ]
    }
   ],
   "source": [
    "median = findMedianSortedArrays([1,3], [2])\n",
    "print(median)"
   ]
  },
  {
   "cell_type": "code",
   "execution_count": 17,
   "metadata": {},
   "outputs": [
    {
     "name": "stdout",
     "output_type": "stream",
     "text": [
      "3\n",
      "1\n"
     ]
    }
   ],
   "source": [
    "s = 1+2\n",
    "print s"
   ]
  },
  {
   "cell_type": "code",
   "execution_count": null,
   "metadata": {
    "collapsed": true
   },
   "outputs": [],
   "source": []
  },
  {
   "cell_type": "code",
   "execution_count": 24,
   "metadata": {
    "collapsed": true
   },
   "outputs": [],
   "source": [
    "def mergeLists(nums1, nums2):\n",
    "    l1 = len(nums1)\n",
    "    l2 = len(nums2)\n",
    "    \n",
    "    middle = (l1 + l2) / 2.0\n",
    "    \n",
    "    iter1 = 0 \n",
    "    iter2 = 0\n",
    "    \n",
    "    result = []\n",
    "    \n",
    "    while(iter1 < l1 or iter2 < l2):\n",
    "        if iter1 < l1 and iter2 < l2:\n",
    "            if nums1[iter1] < nums2[iter2]:\n",
    "                result.append(nums1[iter1])\n",
    "                iter1 = iter1 + 1\n",
    "            else:\n",
    "                result.append(nums2[iter2])\n",
    "                iter2 = iter2 + 1\n",
    "        elif iter1 < l1 and iter2 >= l2:\n",
    "            result.append(nums1[iter1])\n",
    "            iter1 = iter1 + 1\n",
    "        elif iter1 >= l1 and iter2 < l2:\n",
    "            result.append(nums2[iter2])\n",
    "            iter2 = iter2 + 1\n",
    "    print result"
   ]
  },
  {
   "cell_type": "code",
   "execution_count": 25,
   "metadata": {},
   "outputs": [
    {
     "name": "stdout",
     "output_type": "stream",
     "text": [
      "[1, 2, 3, 4, 6]\n"
     ]
    }
   ],
   "source": [
    "mergeLists([1,4,6],[2,3])"
   ]
  },
  {
   "cell_type": "code",
   "execution_count": 34,
   "metadata": {},
   "outputs": [
    {
     "name": "stdout",
     "output_type": "stream",
     "text": [
      "exception\n",
      "exception\n",
      "exception\n",
      "None\n"
     ]
    }
   ],
   "source": [
    "def custom(nums1, nums2):\n",
    "    l1 = len(nums1)\n",
    "    l2 = len(nums2)\n",
    "    \n",
    "    middle = (l1 + l2) / 2.0\n",
    "    \n",
    "    iter1 = 0 \n",
    "    iter2 = 0\n",
    "    \n",
    "    while(iter1 < l1 or iter2 < l2):\n",
    "        try:\n",
    "            if(nums1[iter1] < nums2[iter2]):\n",
    "                iter1 = iter1 + 1\n",
    "                if(float(iter1 + iter2) == middle-1):\n",
    "                    print('ret')\n",
    "                    return (nums1[iter1] + nums2[iter2])/2.0\n",
    "                elif (iter1 + iter2) == (middle - 0.5):\n",
    "                    print('ret2')\n",
    "                    return min(nums1[iter1], nums2[iter2])\n",
    "                \n",
    "            else:\n",
    "                iter2 = iter2 + 1\n",
    "                if(float(iter1 + iter2) == middle-1):\n",
    "                    print('ret3')\n",
    "                    return (nums1[iter1] + nums2[iter2])/2.0\n",
    "                elif (iter1 + iter2) == (middle - 0.5):\n",
    "                    print('ret4')\n",
    "                    return min(nums1[iter1], nums2[iter2])\n",
    "        except IndexError:\n",
    "            print('exception')\n",
    "            if(iter1 < l1):\n",
    "                iter1 = iter1 + 1\n",
    "            else:\n",
    "                iter2 = iter2 + 1\n",
    "        \n",
    "print(custom([1,4,6], []))"
   ]
  },
  {
   "cell_type": "code",
   "execution_count": null,
   "metadata": {
    "collapsed": true
   },
   "outputs": [],
   "source": []
  },
  {
   "cell_type": "code",
   "execution_count": null,
   "metadata": {
    "collapsed": true
   },
   "outputs": [],
   "source": []
  },
  {
   "cell_type": "code",
   "execution_count": null,
   "metadata": {
    "collapsed": true
   },
   "outputs": [],
   "source": []
  },
  {
   "cell_type": "code",
   "execution_count": null,
   "metadata": {
    "collapsed": true
   },
   "outputs": [],
   "source": []
  },
  {
   "cell_type": "code",
   "execution_count": null,
   "metadata": {
    "collapsed": true
   },
   "outputs": [],
   "source": []
  },
  {
   "cell_type": "code",
   "execution_count": null,
   "metadata": {
    "collapsed": true
   },
   "outputs": [],
   "source": []
  },
  {
   "cell_type": "code",
   "execution_count": null,
   "metadata": {
    "collapsed": true
   },
   "outputs": [],
   "source": []
  },
  {
   "cell_type": "code",
   "execution_count": null,
   "metadata": {
    "collapsed": true
   },
   "outputs": [],
   "source": []
  },
  {
   "cell_type": "code",
   "execution_count": null,
   "metadata": {
    "collapsed": true
   },
   "outputs": [],
   "source": []
  },
  {
   "cell_type": "code",
   "execution_count": null,
   "metadata": {
    "collapsed": true
   },
   "outputs": [],
   "source": []
  },
  {
   "cell_type": "code",
   "execution_count": null,
   "metadata": {
    "collapsed": true
   },
   "outputs": [],
   "source": []
  },
  {
   "cell_type": "code",
   "execution_count": null,
   "metadata": {
    "collapsed": true
   },
   "outputs": [],
   "source": []
  },
  {
   "cell_type": "code",
   "execution_count": null,
   "metadata": {
    "collapsed": true
   },
   "outputs": [],
   "source": []
  },
  {
   "cell_type": "code",
   "execution_count": 55,
   "metadata": {},
   "outputs": [
    {
     "name": "stdout",
     "output_type": "stream",
     "text": [
      "middle is 2.0\n",
      "a\n",
      "a\n",
      "a\n",
      "min_val is 3 :: max_val -1\n",
      "1.0\n"
     ]
    }
   ],
   "source": [
    "def findElement(nums1, nums2):\n",
    "    l1 = len(nums1)\n",
    "    l2 = len(nums2)\n",
    "    \n",
    "    middle = (l1+l2)/2.0\n",
    "    print('middle is '+str(middle))\n",
    "    \n",
    "    iter1 = l1\n",
    "    iter2 = l2\n",
    "    \n",
    "    min_val = -1\n",
    "    max_val = -1\n",
    "    \n",
    "    result = -1\n",
    "        \n",
    "    \n",
    "        \n",
    "\n",
    "print(findElement([1,2,3], [10]))"
   ]
  },
  {
   "cell_type": "code",
   "execution_count": 56,
   "metadata": {},
   "outputs": [
    {
     "name": "stdout",
     "output_type": "stream",
     "text": [
      "middle is 1.5\n",
      "d\n",
      "d\n",
      "here\n",
      "2\n"
     ]
    }
   ],
   "source": [
    "print(findElement([1,2,3], []))"
   ]
  },
  {
   "cell_type": "code",
   "execution_count": null,
   "metadata": {
    "collapsed": true
   },
   "outputs": [],
   "source": []
  }
 ],
 "metadata": {
  "kernelspec": {
   "display_name": "Python 2",
   "language": "python",
   "name": "python2"
  },
  "language_info": {
   "codemirror_mode": {
    "name": "ipython",
    "version": 2
   },
   "file_extension": ".py",
   "mimetype": "text/x-python",
   "name": "python",
   "nbconvert_exporter": "python",
   "pygments_lexer": "ipython2",
   "version": "2.7.12"
  }
 },
 "nbformat": 4,
 "nbformat_minor": 2
}
